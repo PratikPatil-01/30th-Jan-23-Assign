{
 "cells": [
  {
   "cell_type": "markdown",
   "id": "0d73361d-7be5-4b43-9c9f-ca5833c1b212",
   "metadata": {},
   "source": [
    "1."
   ]
  },
  {
   "cell_type": "code",
   "execution_count": 3,
   "id": "debeaf24-3d7f-416a-9ad7-d68cb2e245fe",
   "metadata": {},
   "outputs": [
    {
     "name": "stdin",
     "output_type": "stream",
     "text": [
      "Enter percentage: 89\n"
     ]
    },
    {
     "name": "stdout",
     "output_type": "stream",
     "text": [
      "Passed with grade B\n"
     ]
    }
   ],
   "source": [
    "perc=int(input(\"Enter percentage:\"))\n",
    "if perc>90:\n",
    "    print(\"Passed with grade A\")\n",
    "elif perc>80 and perc<=90:\n",
    "    print(\"Passed with grade B\")\n",
    "elif perc>60 and perc<=80:\n",
    "    print(\"Passed with grade C\")\n",
    "elif perc<60:\n",
    "    print(\"Passed with grade D\")\n",
    "else:\n",
    "    print(\"You have failed:\")\n",
    "    \n"
   ]
  },
  {
   "cell_type": "markdown",
   "id": "3503c2f2-de01-4bad-94b3-38af2d680f4a",
   "metadata": {},
   "source": [
    "2."
   ]
  },
  {
   "cell_type": "code",
   "execution_count": 2,
   "id": "c97ab1f6-596e-4d45-8586-8dedb4a55ae2",
   "metadata": {},
   "outputs": [
    {
     "name": "stdin",
     "output_type": "stream",
     "text": [
      "Enter the cost of the bike: 50000\n"
     ]
    },
    {
     "name": "stdout",
     "output_type": "stream",
     "text": [
      "tax to be paid: 2500.0\n"
     ]
    }
   ],
   "source": [
    "cost_bike=int(input(\"Enter the cost of the bike:\"))\n",
    "if cost_bike>100000:\n",
    "    tax=0.15*cost_bike\n",
    "    print('tax to be paid:',tax)\n",
    "elif cost_bike>50000 and cost_bike<=100000:\n",
    "    tax=0.10*cost_bike\n",
    "    print(\"tax to be paid:\",tax)\n",
    "elif cost_bike<=50000:\n",
    "    tax=0.05*cost_bike\n",
    "    print(\"tax to be paid:\",tax)\n",
    "else:\n",
    "    print(\"No tax to be paid:\")\n",
    "    \n",
    "    "
   ]
  },
  {
   "cell_type": "markdown",
   "id": "8ee491f6-1ff6-4569-98db-f023f19b22ba",
   "metadata": {},
   "source": [
    "3."
   ]
  },
  {
   "cell_type": "code",
   "execution_count": 10,
   "id": "e70eb19f-1732-4eff-9d36-0a13dcbddc46",
   "metadata": {},
   "outputs": [
    {
     "name": "stdin",
     "output_type": "stream",
     "text": [
      "Enter a city name: Delhi\n"
     ]
    },
    {
     "name": "stdout",
     "output_type": "stream",
     "text": [
      "Red fort\n"
     ]
    }
   ],
   "source": [
    "city=(input(\"Enter a city name:\"))\n",
    "if city=='Delhi':\n",
    "    print(\"Red fort\")\n",
    "elif city=='Agra':\n",
    "    print(\"Taj Mahal\")\n",
    "elif city=='Jaipur':\n",
    "    print(\"Jal Mahal\")\n",
    "else:\n",
    "    print(\"Try different city\")"
   ]
  },
  {
   "cell_type": "code",
   "execution_count": null,
   "id": "106f460b-f8ee-4875-a474-f02e74b52425",
   "metadata": {},
   "outputs": [],
   "source": []
  },
  {
   "cell_type": "markdown",
   "id": "fafeec78-9368-422f-b3ac-d22f2a726b4a",
   "metadata": {},
   "source": [
    "4."
   ]
  },
  {
   "cell_type": "code",
   "execution_count": 1,
   "id": "ce2da357-e99a-4a7a-bc12-bda4e2d3538d",
   "metadata": {},
   "outputs": [
    {
     "name": "stdin",
     "output_type": "stream",
     "text": [
      "Enter a number 30\n"
     ]
    },
    {
     "name": "stdout",
     "output_type": "stream",
     "text": [
      "iterations completed 1\n"
     ]
    }
   ],
   "source": [
    "count=0\n",
    "num=int(input(\"Enter a number\"))\n",
    "while(num>10):\n",
    "    num=num/3\n",
    "    count=count+1\n",
    "print(\"iterations completed\",count)\n",
    "    \n",
    "    \n",
    "    \n",
    "\n",
    "    \n"
   ]
  },
  {
   "cell_type": "code",
   "execution_count": null,
   "id": "3c69aae3-c81a-4b96-b86e-318bc4402a34",
   "metadata": {},
   "outputs": [],
   "source": []
  },
  {
   "cell_type": "markdown",
   "id": "fb482057-50d0-4614-81a2-0c886efe4f6f",
   "metadata": {},
   "source": [
    "5.We use while loop when we have to run a block of code until the condition is fulfilled."
   ]
  },
  {
   "cell_type": "code",
   "execution_count": 34,
   "id": "d3901d96-4567-4475-9011-f24b4d85f0f9",
   "metadata": {},
   "outputs": [
    {
     "name": "stdout",
     "output_type": "stream",
     "text": [
      "0\n",
      "1\n",
      "2\n",
      "3\n",
      "4\n"
     ]
    }
   ],
   "source": [
    "i=0\n",
    "while(i<5):\n",
    "    print(i)\n",
    "    i+=1"
   ]
  },
  {
   "cell_type": "markdown",
   "id": "a1fe72cc-b552-4693-8cee-6e0216c7c342",
   "metadata": {},
   "source": [
    "7."
   ]
  },
  {
   "cell_type": "code",
   "execution_count": 4,
   "id": "0addf5a2-6c95-4b89-b6b4-9fec5141e708",
   "metadata": {},
   "outputs": [
    {
     "name": "stdout",
     "output_type": "stream",
     "text": [
      "10\n",
      "9\n",
      "8\n",
      "7\n",
      "6\n",
      "5\n",
      "4\n",
      "3\n",
      "2\n",
      "1\n",
      "0\n"
     ]
    }
   ],
   "source": [
    "n=10\n",
    "while(n>=0):\n",
    "    print(n)\n",
    "    n-=1\n"
   ]
  },
  {
   "cell_type": "code",
   "execution_count": null,
   "id": "9b444795-9bf1-4d45-bb89-a2d9a5bcde6f",
   "metadata": {},
   "outputs": [],
   "source": []
  },
  {
   "cell_type": "code",
   "execution_count": null,
   "id": "10a0be14-b4f7-4f6a-bc2a-fe3e984f06cd",
   "metadata": {},
   "outputs": [],
   "source": []
  },
  {
   "cell_type": "code",
   "execution_count": null,
   "id": "b5d7d2f2-f546-4de2-9892-cdfd752c4808",
   "metadata": {},
   "outputs": [],
   "source": []
  },
  {
   "cell_type": "code",
   "execution_count": null,
   "id": "7602bc9a-e492-4241-b9a7-69e50385d764",
   "metadata": {},
   "outputs": [],
   "source": []
  },
  {
   "cell_type": "code",
   "execution_count": null,
   "id": "341347c1-df7c-4709-8350-f75562b7445a",
   "metadata": {},
   "outputs": [],
   "source": []
  },
  {
   "cell_type": "code",
   "execution_count": null,
   "id": "ff082a2b-af78-48fd-b693-6aadfa1bc0a9",
   "metadata": {},
   "outputs": [],
   "source": []
  },
  {
   "cell_type": "code",
   "execution_count": null,
   "id": "59adc01c-827e-47bd-a161-1040aeabdacd",
   "metadata": {},
   "outputs": [],
   "source": []
  },
  {
   "cell_type": "code",
   "execution_count": null,
   "id": "d7cb6770-47f1-4a76-8a03-a984ac421c99",
   "metadata": {},
   "outputs": [],
   "source": []
  },
  {
   "cell_type": "code",
   "execution_count": null,
   "id": "57299b1b-e617-4c9c-b87d-70e2631507e4",
   "metadata": {},
   "outputs": [],
   "source": []
  },
  {
   "cell_type": "code",
   "execution_count": null,
   "id": "25a2cac2-3de4-4dba-9244-054e85b8cee7",
   "metadata": {},
   "outputs": [],
   "source": []
  },
  {
   "cell_type": "code",
   "execution_count": null,
   "id": "3d7ca567-2c84-4fd0-ae98-b358517a5069",
   "metadata": {},
   "outputs": [],
   "source": []
  },
  {
   "cell_type": "code",
   "execution_count": null,
   "id": "0443ea6f-48ff-490d-ba97-1d39590bba9d",
   "metadata": {},
   "outputs": [],
   "source": []
  },
  {
   "cell_type": "code",
   "execution_count": null,
   "id": "3c65ce06-46c7-4d6f-8504-d9b7916eedf3",
   "metadata": {},
   "outputs": [],
   "source": []
  },
  {
   "cell_type": "code",
   "execution_count": null,
   "id": "38ded02b-b10b-4e79-905e-099109eddf5c",
   "metadata": {},
   "outputs": [],
   "source": []
  },
  {
   "cell_type": "code",
   "execution_count": null,
   "id": "f731e2b7-a22f-4321-9eb8-2a2804695947",
   "metadata": {},
   "outputs": [],
   "source": []
  },
  {
   "cell_type": "code",
   "execution_count": null,
   "id": "0e895164-928b-4fc9-b215-7280c7ec857d",
   "metadata": {},
   "outputs": [],
   "source": []
  },
  {
   "cell_type": "code",
   "execution_count": null,
   "id": "b3ea425b-3e73-47d7-968c-0a7729f9d71d",
   "metadata": {},
   "outputs": [],
   "source": []
  },
  {
   "cell_type": "code",
   "execution_count": null,
   "id": "125848f7-ab3e-429e-b327-da7666018541",
   "metadata": {},
   "outputs": [],
   "source": []
  },
  {
   "cell_type": "code",
   "execution_count": null,
   "id": "d1c28bb4-2602-497e-a444-0e5857e759cf",
   "metadata": {},
   "outputs": [],
   "source": []
  },
  {
   "cell_type": "code",
   "execution_count": null,
   "id": "a4d6b1f2-bf52-410a-b8d7-1c48a2cab96b",
   "metadata": {},
   "outputs": [],
   "source": []
  },
  {
   "cell_type": "code",
   "execution_count": null,
   "id": "874ded8c-919d-494e-b06a-18cd1aba5025",
   "metadata": {},
   "outputs": [],
   "source": []
  },
  {
   "cell_type": "code",
   "execution_count": null,
   "id": "902d18b8-4f29-4b04-a798-52a84ded6697",
   "metadata": {},
   "outputs": [],
   "source": []
  }
 ],
 "metadata": {
  "kernelspec": {
   "display_name": "Python 3 (ipykernel)",
   "language": "python",
   "name": "python3"
  },
  "language_info": {
   "codemirror_mode": {
    "name": "ipython",
    "version": 3
   },
   "file_extension": ".py",
   "mimetype": "text/x-python",
   "name": "python",
   "nbconvert_exporter": "python",
   "pygments_lexer": "ipython3",
   "version": "3.10.8"
  }
 },
 "nbformat": 4,
 "nbformat_minor": 5
}
