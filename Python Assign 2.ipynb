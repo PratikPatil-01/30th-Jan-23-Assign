{
 "cells": [
  {
   "cell_type": "markdown",
   "id": "0d73361d-7be5-4b43-9c9f-ca5833c1b212",
   "metadata": {},
   "source": [
    "1) "
   ]
  },
  {
   "cell_type": "code",
   "execution_count": 8,
   "id": "debeaf24-3d7f-416a-9ad7-d68cb2e245fe",
   "metadata": {},
   "outputs": [
    {
     "name": "stdin",
     "output_type": "stream",
     "text": [
      "Enter percentage: 92\n"
     ]
    },
    {
     "name": "stdout",
     "output_type": "stream",
     "text": [
      "Passed with grade A\n"
     ]
    }
   ],
   "source": [
    "perc=int(input(\"Enter percentage:\"))\n",
    "if perc>90:\n",
    "    print(\"Passed with grade A\")\n",
    "elif perc>80 and perc<=90:\n",
    "    print(\"Passed with grade B\")\n",
    "elif perc>60 and perc<=80:\n",
    "    print(\"Passed with grade C\")\n",
    "elif perc<60:\n",
    "    print(\"Passed with grade D\")\n",
    "else:\n",
    "    print(\"You have failed:\")"
   ]
  },
  {
   "cell_type": "code",
   "execution_count": null,
   "id": "f74e9ad8-4dd3-463c-9491-aeb25268c35d",
   "metadata": {},
   "outputs": [],
   "source": []
  },
  {
   "cell_type": "markdown",
   "id": "3503c2f2-de01-4bad-94b3-38af2d680f4a",
   "metadata": {},
   "source": [
    "2) "
   ]
  },
  {
   "cell_type": "code",
   "execution_count": 10,
   "id": "c97ab1f6-596e-4d45-8586-8dedb4a55ae2",
   "metadata": {},
   "outputs": [
    {
     "name": "stdin",
     "output_type": "stream",
     "text": [
      "Enter the cost of the bike: 60000\n"
     ]
    },
    {
     "name": "stdout",
     "output_type": "stream",
     "text": [
      "tax to be paid: 6000.0\n"
     ]
    }
   ],
   "source": [
    "cost_bike=int(input(\"Enter the cost of the bike:\"))\n",
    "if cost_bike>100000:\n",
    "    tax=0.15*cost_bike\n",
    "    print('tax to be paid:',tax)\n",
    "elif cost_bike>50000 and cost_bike<=100000:\n",
    "    tax=0.10*cost_bike\n",
    "    print(\"tax to be paid:\",tax)\n",
    "elif cost_bike<=50000:\n",
    "    tax=0.05*cost_bike\n",
    "    print(\"tax to be paid:\",tax)\n",
    "else:\n",
    "    print(\"No tax to be paid:\")"
   ]
  },
  {
   "cell_type": "code",
   "execution_count": null,
   "id": "eafbfc86-7f0d-4b68-9ebc-cb3f57ecbecc",
   "metadata": {},
   "outputs": [],
   "source": []
  },
  {
   "cell_type": "markdown",
   "id": "8ee491f6-1ff6-4569-98db-f023f19b22ba",
   "metadata": {},
   "source": [
    "3) "
   ]
  },
  {
   "cell_type": "code",
   "execution_count": 12,
   "id": "e70eb19f-1732-4eff-9d36-0a13dcbddc46",
   "metadata": {},
   "outputs": [
    {
     "name": "stdin",
     "output_type": "stream",
     "text": [
      "Enter a city name: Mumbai\n"
     ]
    },
    {
     "name": "stdout",
     "output_type": "stream",
     "text": [
      "Try different city\n"
     ]
    }
   ],
   "source": [
    "city=(input(\"Enter a city name:\"))\n",
    "if city=='Delhi':\n",
    "    print(\"Red fort\")\n",
    "elif city=='Agra':\n",
    "    print(\"Taj Mahal\")\n",
    "elif city=='Jaipur':\n",
    "    print(\"Jal Mahal\")\n",
    "else:\n",
    "    print(\"Try different city\")"
   ]
  },
  {
   "cell_type": "code",
   "execution_count": null,
   "id": "106f460b-f8ee-4875-a474-f02e74b52425",
   "metadata": {},
   "outputs": [],
   "source": []
  },
  {
   "cell_type": "markdown",
   "id": "fafeec78-9368-422f-b3ac-d22f2a726b4a",
   "metadata": {},
   "source": [
    "4) "
   ]
  },
  {
   "cell_type": "code",
   "execution_count": 14,
   "id": "ce2da357-e99a-4a7a-bc12-bda4e2d3538d",
   "metadata": {},
   "outputs": [
    {
     "name": "stdin",
     "output_type": "stream",
     "text": [
      "Enter a number 45\n"
     ]
    },
    {
     "name": "stdout",
     "output_type": "stream",
     "text": [
      "Iterations Completed 2\n"
     ]
    }
   ],
   "source": [
    "count=0\n",
    "num=int(input(\"Enter a number\"))\n",
    "while(num>10):\n",
    "    num=num/3\n",
    "    count=count+1\n",
    "print(\"Iterations Completed\",count)"
   ]
  },
  {
   "cell_type": "code",
   "execution_count": null,
   "id": "3c69aae3-c81a-4b96-b86e-318bc4402a34",
   "metadata": {},
   "outputs": [],
   "source": []
  },
  {
   "cell_type": "markdown",
   "id": "fb482057-50d0-4614-81a2-0c886efe4f6f",
   "metadata": {},
   "source": [
    "5) \n",
    "We use while loop when we have to run a block of code until the condition is fulfilled."
   ]
  },
  {
   "cell_type": "code",
   "execution_count": 15,
   "id": "d3901d96-4567-4475-9011-f24b4d85f0f9",
   "metadata": {},
   "outputs": [
    {
     "name": "stdout",
     "output_type": "stream",
     "text": [
      "0\n",
      "1\n",
      "2\n",
      "3\n",
      "4\n"
     ]
    }
   ],
   "source": [
    "i=0\n",
    "while(i<5):\n",
    "    print(i)\n",
    "    i+=1"
   ]
  },
  {
   "cell_type": "markdown",
   "id": "0f99287d-89e7-4b97-a774-4cbff0733595",
   "metadata": {},
   "source": [
    "6) "
   ]
  },
  {
   "cell_type": "code",
   "execution_count": 16,
   "id": "d9b4b95c-d90b-4934-be73-9e84f46dca79",
   "metadata": {},
   "outputs": [
    {
     "name": "stdout",
     "output_type": "stream",
     "text": [
      "*\n",
      "**\n",
      "***\n",
      "****\n",
      "*****\n"
     ]
    }
   ],
   "source": [
    "# Pattern 1: Right Triangle Pattern\n",
    "row = 1\n",
    "while row <= 5:\n",
    "    col = 1\n",
    "    while col <= row:\n",
    "        print(\"*\", end=\"\")\n",
    "        col += 1\n",
    "    print()\n",
    "    row += 1"
   ]
  },
  {
   "cell_type": "code",
   "execution_count": 17,
   "id": "102361dc-bb92-4368-bd78-a8ac8ad65104",
   "metadata": {},
   "outputs": [
    {
     "name": "stdout",
     "output_type": "stream",
     "text": [
      "*****\n",
      "****\n",
      "***\n",
      "**\n",
      "*\n"
     ]
    }
   ],
   "source": [
    "# Pattern 2: Inverted Right Triangle Pattern\n",
    "row = 5\n",
    "while row >= 1:\n",
    "    col = 1\n",
    "    while col <= row:\n",
    "        print(\"*\", end=\"\")\n",
    "        col += 1\n",
    "    print()\n",
    "    row -= 1"
   ]
  },
  {
   "cell_type": "code",
   "execution_count": 18,
   "id": "11436e69-5eb7-44d3-8b34-98f43c461757",
   "metadata": {},
   "outputs": [
    {
     "name": "stdout",
     "output_type": "stream",
     "text": [
      "*\n",
      "**\n",
      "***\n",
      "****\n",
      "*****\n",
      "****\n",
      "***\n",
      "**\n",
      "*\n"
     ]
    }
   ],
   "source": [
    "# Pattern 3: Half Diamond Pattern\n",
    "row = 1\n",
    "while row <= 9:\n",
    "    if row <= 5:\n",
    "        col = 1\n",
    "        while col <= row:\n",
    "            print(\"*\", end=\"\")\n",
    "            col += 1\n",
    "    else:\n",
    "        col = 1\n",
    "        while col <= 10 - row:\n",
    "            print(\"*\", end=\"\")\n",
    "            col += 1\n",
    "    print()\n",
    "    row += 1"
   ]
  },
  {
   "cell_type": "code",
   "execution_count": null,
   "id": "2c8c3bdb-bf89-4666-8266-c5162960c4a6",
   "metadata": {},
   "outputs": [],
   "source": []
  },
  {
   "cell_type": "markdown",
   "id": "a1fe72cc-b552-4693-8cee-6e0216c7c342",
   "metadata": {},
   "source": [
    "7) \n",
    "&\n",
    "8) "
   ]
  },
  {
   "cell_type": "code",
   "execution_count": 19,
   "id": "0addf5a2-6c95-4b89-b6b4-9fec5141e708",
   "metadata": {},
   "outputs": [
    {
     "name": "stdout",
     "output_type": "stream",
     "text": [
      "10\n",
      "9\n",
      "8\n",
      "7\n",
      "6\n",
      "5\n",
      "4\n",
      "3\n",
      "2\n",
      "1\n",
      "0\n"
     ]
    }
   ],
   "source": [
    "n=10\n",
    "while(n>=0):\n",
    "    print(n)\n",
    "    n-=1"
   ]
  },
  {
   "cell_type": "code",
   "execution_count": null,
   "id": "3962c88d-6c94-4fe9-939e-15d6bd74def3",
   "metadata": {},
   "outputs": [],
   "source": []
  }
 ],
 "metadata": {
  "kernelspec": {
   "display_name": "Python 3 (ipykernel)",
   "language": "python",
   "name": "python3"
  },
  "language_info": {
   "codemirror_mode": {
    "name": "ipython",
    "version": 3
   },
   "file_extension": ".py",
   "mimetype": "text/x-python",
   "name": "python",
   "nbconvert_exporter": "python",
   "pygments_lexer": "ipython3",
   "version": "3.10.8"
  }
 },
 "nbformat": 4,
 "nbformat_minor": 5
}
